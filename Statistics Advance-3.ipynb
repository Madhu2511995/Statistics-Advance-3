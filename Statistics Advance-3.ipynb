{
 "cells": [
  {
   "cell_type": "markdown",
   "id": "772154a8-057b-414c-b84b-9b9ec81a519b",
   "metadata": {},
   "source": [
    "#### Q1: What is Estimation Statistics? Explain point estimate and interval estimate.\n",
    "\n",
    "#### Q2. Write a Python function to estimate the population mean using a sample mean and standard deviation.\n",
    "\n",
    "#### Q3: What is Hypothesis testing? Why is it used? State the importance of Hypothesis testing.\n",
    "\n",
    "#### Q4. Create a hypothesis that states whether the average weight of male college students is greater than the average weight of female college students.\n",
    "\n",
    "#### Q5. Write a Python script to conduct a hypothesis test on the difference between two population means, given a sample from each population.\n",
    "\n",
    "#### Q6: What is a null and alternative hypothesis? Give some examples.\n",
    "\n",
    "#### Q7: Write down the steps involved in hypothesis testing.\n",
    "\n",
    "#### Q8. Define p-value and explain its significance in hypothesis testing.\n",
    "\n",
    "#### Q9. Generate a Student's t-distribution plot using Python's matplotlib library, with the degrees of freedom parameter set to 10.\n",
    "\n",
    "#### Q10. Write a Python program to calculate the two-sample t-test for independent samples, given two random samples of equal size and a null hypothesis that the population means are equal.\n",
    "\n",
    "#### Q11: What is Student’s t distribution? When to use the t-Distribution.\n",
    "\n",
    "#### Q12: What is t-statistic? State the formula for t-statistic.\n",
    "\n",
    "#### Q13. A coffee shop owner wants to estimate the average daily revenue for their shop. They take a random sample of 50 days and find the sample mean revenue to be $500 with a standard deviation of $50. Estimate the population mean revenue with a 95% confidence interval.\n",
    "\n",
    "#### Q14. A researcher hypothesizes that a new drug will decrease blood pressure by 10 mmHg. They conduct a clinical trial with 100 patients and find that the sample mean decrease in blood pressure is 8 mmHg with a standard deviation of 3 mmHg. Test the hypothesis with a significance level of 0.05.\n",
    "\n",
    "#### Q15. An electronics company produces a certain type of product with a mean weight of 5 pounds and a standard deviation of 0.5 pounds. A random sample of 25 products is taken, and the sample mean weight is found to be 4.8 pounds. Test the hypothesis that the true mean weight of the products is less than 5 pounds with a significance level of 0.01.\n",
    "\n",
    "#### Q16. Two groups of students are given different study materials to prepare for a test. The first group (n1 = 30) has a mean score of 80 with a standard deviation of 10, and the second group (n2 = 40) has a mean score of 75 with a standard deviation of 8. Test the hypothesis that the population means for the two groups are equal with a significance level of 0.01.\n",
    "\n",
    "#### Q17. A marketing company wants to estimate the average number of ads watched by viewers during a TV program. They take a random sample of 50 viewers and find that the sample mean is 4 with a standard deviation of 1.5. Estimate the population mean with a 99% confidence interval."
   ]
  },
  {
   "cell_type": "markdown",
   "id": "0427d43a-8949-4182-afb1-062b04493e0e",
   "metadata": {},
   "source": [
    "## Answers"
   ]
  },
  {
   "cell_type": "markdown",
   "id": "2dd0a44f-d6d1-442c-ac4e-c6ff31b594ed",
   "metadata": {},
   "source": [
    "### Q1: What is Estimation Statistics? Explain point estimate and interval estimate.\n"
   ]
  },
  {
   "cell_type": "markdown",
   "id": "e9a082a0-9f8a-498b-a73f-79105e640763",
   "metadata": {},
   "source": [
    "#### Estimation Statistics: \n",
    "\n",
    "Estimation statistics is a branch of inferential statistics that deals with estimating population parameters based on sample data. In many real-world situations, it is often impractical or impossible to collect data from an entire population. Instead, statisticians use samples to draw conclusions and make inferences about the population of interest. Estimation allows us to make educated guesses or approximations about the unknown population parameters using information obtained from the sample."
   ]
  },
  {
   "cell_type": "markdown",
   "id": "f55300c6-50b3-4200-a48f-707c2500785a",
   "metadata": {},
   "source": [
    "#### Point Estimate:\n",
    "A point estimate is a single numerical value that is used to approximate an unknown population parameter. It is calculated based on the sample data and provides an educated guess about the parameter's value. The most common point estimate is the sample mean, which is used to estimate the population mean.\n",
    "\n",
    "#### Example: \n",
    "\n",
    "if we want to estimate the average height of all adults in a country, it would be impractical to measure every adult. Instead, we can randomly sample a group of adults and calculate their average height. This calculated average would be the point estimate for the population mean height."
   ]
  },
  {
   "cell_type": "markdown",
   "id": "9847cc87-95b0-422c-a72b-973a946d2096",
   "metadata": {},
   "source": [
    "#### Interval Estimate (Confidence Interval):\n",
    "An interval estimate, also known as a confidence interval, is a range of values within which the population parameter is likely to lie with a certain level of confidence. It provides more information about the uncertainty associated with the point estimate.\n",
    "\n",
    "A confidence interval is calculated using the point estimate and the margin of error, which is determined by the variability of the sample data and the desired level of confidence. The confidence level, often denoted by (1 - α), indicates the probability that the interval contains the true population parameter.\n",
    "\n",
    "#### Example:\n",
    "\n",
    "if a 95% confidence interval for the average height of adults is [165 cm, 175 cm], it means that we are 95% confident that the true population mean height lies between 165 cm and 175 cm."
   ]
  },
  {
   "cell_type": "markdown",
   "id": "075042ac-16f7-49a3-8d2b-f56f53fe6fed",
   "metadata": {},
   "source": [
    "### Q2. Write a Python function to estimate the population mean using a sample mean and standard deviation."
   ]
  },
  {
   "cell_type": "code",
   "execution_count": null,
   "id": "dc08076c-910e-4b9d-ab98-f2cff12358e7",
   "metadata": {},
   "outputs": [],
   "source": [
    "import math\n",
    "from scipy.stats import t\n",
    "\n",
    "confidence_level = 0.95\n",
    "degrees_of_freedom = 49\n",
    "\n",
    "# Calculate the critical value\n",
    "critical_value = t.ppf(confidence_level, degrees_of_freedom)\n",
    "\n",
    "def estimate_population_mean(sample_mean, sample_std_dev, sample_size):\n",
    "    degrees_of_freedom = sample_size-1\n",
    "    standard_error = sample_std_dev / math.sqrt(sample_size)\n",
    "    critical_value = t.ppf(confidence_level, degrees_of_freedom)\n",
    "    Confidence Interval = sample Mean ± (Critical Value) * (standard_error)"
   ]
  },
  {
   "cell_type": "code",
   "execution_count": 1,
   "id": "68b40d47-9218-4216-a444-43fa373e30e2",
   "metadata": {},
   "outputs": [
    {
     "name": "stdout",
     "output_type": "stream",
     "text": [
      "Estimated population mean: 80\n"
     ]
    }
   ],
   "source": [
    "def estimate_population_mean(sample_mean, sample_std_dev, sample_size):\n",
    "    \"\"\"\n",
    "    Estimate the population mean using a sample mean and standard deviation.\n",
    "\n",
    "    Args:\n",
    "        sample_mean (float): The sample mean.\n",
    "        sample_std_dev (float): The sample standard deviation.\n",
    "        sample_size (int): The sample size.\n",
    "\n",
    "    Returns:\n",
    "        float: The estimated population mean.\n",
    "    \"\"\"\n",
    "    import math\n",
    "\n",
    "    # Calculate the standard error\n",
    "    standard_error = sample_std_dev / math.sqrt(sample_size)\n",
    "\n",
    "    # Estimate the population mean using the sample mean and standard error\n",
    "    population_mean = sample_mean\n",
    "\n",
    "    return population_mean\n",
    "\n",
    "# Example usage:\n",
    "sample_mean = 80\n",
    "sample_std_dev = 10\n",
    "sample_size = 100\n",
    "\n",
    "estimated_population_mean = estimate_population_mean(sample_mean, sample_std_dev, sample_size)\n",
    "print(\"Estimated population mean:\", estimated_population_mean)\n"
   ]
  },
  {
   "cell_type": "markdown",
   "id": "a53cbadd-3e57-40d5-85db-c18d1214c362",
   "metadata": {},
   "source": [
    "### Q3: What is Hypothesis testing? Why is it used? State the importance of Hypothesis testing."
   ]
  },
  {
   "cell_type": "markdown",
   "id": "dbe6ac0d-f89d-4c06-9481-ba8cff79a1f4",
   "metadata": {},
   "source": [
    "#### Hypothesis testing: \n",
    "\n",
    "Hypothesis testing is a fundamental concept in inferential statistics used to make decisions or draw conclusions about a population based on sample data. "
   ]
  },
  {
   "cell_type": "markdown",
   "id": "733cd5b7-2179-4d04-8ec8-05d9a18f48db",
   "metadata": {},
   "source": [
    "##### Null Hypothesis(H0): \n",
    "\n",
    "The Null Hypothesis is the assumption that the event will not occur. A null hypothesis has no bearing on the study's outcome unless it is rejected.\n",
    "\n",
    "#### Alternate Hypothesis(H1):\n",
    "\n",
    "The Alternate Hypothesis is the logical opposite of the null hypothesis. The acceptance of the alternative hypothesis follows the rejection of the null hypothesis. H1 is the symbol for it."
   ]
  },
  {
   "cell_type": "markdown",
   "id": "ff6c737b-3a48-4d47-a39a-1077a05d334f",
   "metadata": {},
   "source": [
    "Example:\n",
    "    A sanitizer manufacturer claims that its product kills 95 percent of germs on average. \n",
    "\n",
    "To put this company's claim to the test, create a null and alternate hypothesis.\n",
    "\n",
    "H0 (Null Hypothesis): Average = 95%.\n",
    "\n",
    "Alternative Hypothesis (H1): The average is less than 95%."
   ]
  },
  {
   "cell_type": "markdown",
   "id": "645c9081-bb03-44e4-845e-c02f73c4a501",
   "metadata": {},
   "source": [
    "Hypothesis Testing Formula\n",
    "\n",
    "Z = ( x̅ – μ0 ) / (σ /√n)\n",
    "\n",
    "Here, x̅ is the sample mean,\n",
    "\n",
    "μ0 is the population mean,\n",
    "\n",
    "σ is the standard deviation,\n",
    "\n",
    "n is the sample size."
   ]
  },
  {
   "cell_type": "markdown",
   "id": "e3b50ab8-3ecc-461f-8408-cb537f0d1f26",
   "metadata": {},
   "source": [
    "### Q4. Create a hypothesis that states whether the average weight of male college students is greater than the average weight of female college students."
   ]
  },
  {
   "cell_type": "markdown",
   "id": "c9ef48bf-befc-4b20-b228-626effc7f7af",
   "metadata": {},
   "source": [
    "#### H0 (Null Hypothesis): \n",
    "Average weight of male student is gratter female.\n",
    "\n",
    "#### Alternative Hypothesis (H1): \n",
    "Average weight of male student is not gratter female."
   ]
  },
  {
   "cell_type": "markdown",
   "id": "fed8dfa1-e370-45ff-9ad1-5092b4dd09f9",
   "metadata": {},
   "source": [
    "### Q5. Write a Python script to conduct a hypothesis test on the difference between two population means, given a sample from each population"
   ]
  },
  {
   "cell_type": "code",
   "execution_count": 1,
   "id": "9456f187-c39d-4bb6-a1fc-c235d6ed42c5",
   "metadata": {},
   "outputs": [
    {
     "name": "stdout",
     "output_type": "stream",
     "text": [
      "Reject the null hypothesis. There is a significant difference between the population means.\n"
     ]
    }
   ],
   "source": [
    "import numpy as np\n",
    "from scipy import stats\n",
    "\n",
    "def two_sample_t_test(sample1, sample2, alpha=0.05):\n",
    "    mean1 = np.mean(sample1)\n",
    "    mean2 = np.mean(sample2)\n",
    "    std1 = np.std(sample1, ddof=1)  \n",
    "    std2 = np.std(sample2, ddof=1)\n",
    "    t_statistic = (mean1 - mean2) / np.sqrt((std1**2 / len(sample1)) + (std2**2 / len(sample2)))\n",
    "\n",
    "    # Degrees of freedom\n",
    "    df = len(sample1) + len(sample2) - 2\n",
    "\n",
    "    # Calculate the p-value\n",
    "    p_value = 2 * (1 - stats.t.cdf(abs(t_statistic), df))\n",
    "\n",
    "    # Check for significance\n",
    "    if p_value < alpha:\n",
    "        result = \"Reject the null hypothesis. There is a significant difference between the population means.\"\n",
    "    else:\n",
    "        result = \"Fail to reject the null hypothesis. There is no significant difference between the population means.\"\n",
    "\n",
    "    return result\n",
    "\n",
    "# Example usage\n",
    "if __name__ == \"__main__\":\n",
    "    sample1 = [34, 36, 28, 32, 30]\n",
    "    sample2 = [42, 40, 38, 36, 44]\n",
    "\n",
    "    result = two_sample_t_test(sample1, sample2)\n",
    "\n",
    "    print(result)\n"
   ]
  },
  {
   "cell_type": "markdown",
   "id": "a18fe0dc-24f5-4cfe-9b0e-06af4524d4cc",
   "metadata": {},
   "source": [
    "### Q6: What is a null and alternative hypothesis? Give some examples.\n"
   ]
  },
  {
   "cell_type": "markdown",
   "id": "e80455ee-0b7e-4c83-83d0-f14ef40b4bdc",
   "metadata": {},
   "source": [
    "#### Null Hypothesis(H0):\n",
    "The Null Hypothesis is the assumption that the event will not occur. A null hypothesis has no bearing on the study's outcome unless it is rejected.\n",
    "\n",
    "#### Alternate Hypothesis(H1):\n",
    "The Alternate Hypothesis is the logical opposite of the null hypothesis. The acceptance of the alternative hypothesis follows the rejection of the null hypothesis. H1 is the symbol for it."
   ]
  },
  {
   "cell_type": "markdown",
   "id": "a1650114-dc81-405e-ba7c-2fbac36f8f57",
   "metadata": {},
   "source": [
    "#### Example: A sanitizer manufacturer claims that its product kills 95 percent of germs on average.\n",
    "\n",
    "To put this company's claim to the test, create a null and alternate hypothesis.\n",
    "\n",
    "#### H0 (Null Hypothesis): \n",
    "Average = 95%.\n",
    "\n",
    "#### Alternative Hypothesis (H1): \n",
    "The average is less than 95%."
   ]
  },
  {
   "cell_type": "markdown",
   "id": "5b5c4ffd-2438-4768-b114-2f9c18002429",
   "metadata": {},
   "source": [
    "### Q7: Write down the steps involved in hypothesis testing."
   ]
  },
  {
   "cell_type": "markdown",
   "id": "25c6baa5-d286-4c31-b874-ab6fe1e3edfe",
   "metadata": {},
   "source": [
    "\n",
    "1. Formulate the Hypotheses:\n",
    "   - Null Hypothesis (H0): This is the default assumption, stating that there is no significant effect or relationship in the population, or any observed difference in the sample is due to chance.\n",
    "   - Alternative Hypothesis (Ha): This is the opposite of the null hypothesis. It represents what the researcher is trying to show or prove with the data, indicating a significant effect or relationship in the population.\n",
    "\n",
    "2. Set the Significance Level (Alpha):\n",
    "   - The significance level (alpha) is the probability of making a Type I error, which is the probability of rejecting the null hypothesis when it is actually true. Commonly used alpha values are 0.05 (5%) or 0.01 (1%).\n",
    "\n",
    "3. Select the Appropriate Test Statistic:\n",
    "   - The choice of the test statistic depends on the type of data and the specific hypothesis being tested. Commonly used test statistics include t-test, z-test, chi-square test, ANOVA, etc.\n",
    "\n",
    "4. Collect Sample Data:\n",
    "   - Collect data from the population of interest through random sampling or experimental design.\n",
    "\n",
    "5. Calculate the Test Statistic:\n",
    "   - Using the sample data, compute the value of the chosen test statistic.\n",
    "\n",
    "6. Determine the P-Value:\n",
    "   - The p-value is the probability of obtaining the observed results (or more extreme results) if the null hypothesis is true. It measures the strength of the evidence against the null hypothesis.\n",
    "\n",
    "7. Compare P-Value with Alpha:\n",
    "   - Compare the calculated p-value with the pre-defined significance level (alpha).\n",
    "   - If the p-value is less than or equal to alpha (p ≤ alpha), we reject the null hypothesis in favor of the alternative hypothesis.\n",
    "   - If the p-value is greater than alpha (p > alpha), we fail to reject the null hypothesis.\n",
    "\n",
    "8. Draw a Conclusion:\n",
    "   - Based on the comparison of the p-value and alpha, draw a conclusion about the hypothesis:\n",
    "     - If the p-value ≤ alpha: Reject the null hypothesis. There is evidence to support the alternative hypothesis.\n",
    "     - If the p-value > alpha: Fail to reject the null hypothesis. There is not enough evidence to support the alternative hypothesis.\n",
    "\n",
    "9. State the Results:\n",
    "   - Clearly state the conclusion, including the results of the hypothesis test, the interpretation, and any implications or recommendations.\n"
   ]
  },
  {
   "cell_type": "markdown",
   "id": "c793724e-af6d-4b07-bbf5-7f2bf3e2f73a",
   "metadata": {},
   "source": [
    "### Q8. Define p-value and explain its significance in hypothesis testing.\n"
   ]
  },
  {
   "cell_type": "markdown",
   "id": "a38125e9-b541-4ad3-898b-2c9c86571e04",
   "metadata": {},
   "source": [
    "### p-value:\n",
    "The p-value, short for \"probability value,\" is a fundamental concept in hypothesis testing. It is a measure of the strength of the evidence against the null hypothesis.\n",
    "- In hypothesis testing, the p-value helps us make a decision about whether to reject or fail to reject the null hypothesis."
   ]
  },
  {
   "cell_type": "markdown",
   "id": "799951fd-f404-46c9-a536-c38eebd32cdd",
   "metadata": {},
   "source": [
    "#### Low p-value (p ≤ alpha):\n",
    "\n",
    "If the calculated p-value is less than or equal to the pre-defined significance level (alpha), it suggests that the observed results are highly unlikely to occur under the assumption that the null hypothesis is true.\n",
    "\n",
    "#### High p-value (p > alpha):\n",
    "\n",
    "If the calculated p-value is greater than the significance level (alpha), it means that the observed results are reasonably likely to occur by chance, even if the null hypothesis is true."
   ]
  },
  {
   "cell_type": "markdown",
   "id": "413155cf-dd47-45d8-899f-c26afbf1639e",
   "metadata": {},
   "source": [
    "### Q9. Generate a Student's t-distribution plot using Python's matplotlib library, with the degrees of freedom parameter set to 10."
   ]
  },
  {
   "cell_type": "code",
   "execution_count": 2,
   "id": "d2a89f50-e8a7-4efe-a341-9c254c981d42",
   "metadata": {},
   "outputs": [
    {
     "data": {
      "image/png": "[encoded data removed]",
      "text/plain": [
       "<Figure size 640x480 with 1 Axes>"
      ]
     },
     "metadata": {},
     "output_type": "display_data"
    }
   ],
   "source": [
    "import numpy as np\n",
    "import matplotlib.pyplot as plt\n",
    "import scipy.stats as stats\n",
    "\n",
    "# Set the degrees of freedom\n",
    "degrees_of_freedom = 10\n",
    "\n",
    "# Create an array of x-values\n",
    "x = np.linspace(-5, 5, 500)  # Range of values for the plot\n",
    "\n",
    "# Calculate the probability density function (PDF) for each x-value\n",
    "pdf = stats.t.pdf(x, df=degrees_of_freedom)\n",
    "\n",
    "# Plot the t-distribution\n",
    "plt.plot(x, pdf, label=f\"t-distribution (df = {degrees_of_freedom})\")\n",
    "plt.xlabel(\"x\")\n",
    "plt.ylabel(\"Probability Density\")\n",
    "plt.title(\"Student's t-distribution\")\n",
    "plt.legend()\n",
    "plt.grid(True)\n",
    "plt.show()\n"
   ]
  },
  {
   "cell_type": "markdown",
   "id": "a725ee8b-3e1f-4bd6-97fc-2419fc6a5fc8",
   "metadata": {},
   "source": [
    "### Q10. Write a Python program to calculate the two-sample t-test for independent samples, given two random samples of equal size and a null hypothesis that the population means are equal.\n"
   ]
  },
  {
   "cell_type": "code",
   "execution_count": 4,
   "id": "6f1e3ea1-204f-4546-8bc0-88fde7c1c301",
   "metadata": {},
   "outputs": [
    {
     "name": "stdout",
     "output_type": "stream",
     "text": [
      "Results of the Two-Sample T-Test:\n",
      "T-Statistic: 1.08\n",
      "P-Value: 0.3031\n",
      "Fail to reject the null hypothesis. There is no significant difference between the population means.\n"
     ]
    }
   ],
   "source": [
    "import numpy as np\n",
    "import scipy.stats as stats\n",
    "\n",
    "def two_sample_t_test(sample1, sample2):\n",
    "    # Calculate the t-statistic and p-value\n",
    "    t_statistic, p_value = stats.ttest_ind(sample1, sample2)\n",
    "\n",
    "    # Determine the significance level (alpha)\n",
    "    alpha = 0.05\n",
    "\n",
    "    # Decide whether to reject the null hypothesis\n",
    "    if p_value < alpha:\n",
    "        result = \"Reject the null hypothesis. There is a significant difference between the population means.\"\n",
    "    else:\n",
    "        result = \"Fail to reject the null hypothesis. There is no significant difference between the population means.\"\n",
    "\n",
    "    return t_statistic, p_value, result\n",
    "\n",
    "# Example usage:\n",
    "sample1 = np.array([25, 30, 32, 28, 31,10,20,90])\n",
    "sample2 = np.array([20, 22, 24, 18, 23])\n",
    "\n",
    "t_statistic, p_value, result = two_sample_t_test(sample1, sample2)\n",
    "\n",
    "print(\"Results of the Two-Sample T-Test:\")\n",
    "print(f\"T-Statistic: {t_statistic:.2f}\")\n",
    "print(f\"P-Value: {p_value:.4f}\")\n",
    "print(result)\n"
   ]
  },
  {
   "cell_type": "markdown",
   "id": "0980b041-a09e-4693-8bde-dc35976fc903",
   "metadata": {},
   "source": [
    "### Q11: What is Student’s t distribution? When to use the t-Distribution.\n"
   ]
  },
  {
   "cell_type": "markdown",
   "id": "0f848083-33a6-4db0-8339-e655f2901841",
   "metadata": {},
   "source": [
    "#### Student’s t distribution: \n",
    "\n",
    "It is similar in shape to the normal (Gaussian) distribution but has heavier tails, which means it has more probability in the tails and less in the center compared to the normal distribution. The t-distribution is a family of distributions, and the shape of the distribution varies depending on the degrees of freedom."
   ]
  },
  {
   "cell_type": "markdown",
   "id": "500d45cc-5509-4cc0-bff4-600d271000bc",
   "metadata": {},
   "source": [
    "#### Used:\n",
    "1. The Population Standard Deviation is Unknown:\n",
    "--------------------------------------------------------\n",
    "The t-distribution is particularly useful when the population standard deviation is unknown, which is often the case in real-world scenarios. When the sample size is small, using the standard normal distribution (Z-distribution) for hypothesis testing or constructing confidence intervals can lead to inaccurate results. In such cases, the t-distribution is more appropriate because it accounts for the uncertainty introduced by using the sample standard deviation as an estimate of the population standard deviation.\n",
    "\n",
    "2. Small Sample Sizes:\n",
    "---------------------------------------------------\n",
    "For small sample sizes (typically n < 30), the t-distribution is preferred, even if the population standard deviation is known. As the sample size increases, the t-distribution approaches the standard normal distribution, and the difference becomes negligible for larger samples.\n",
    "\n",
    "3. Constructing Confidence Intervals:\n",
    "--------------------------------------------------------\n",
    "When estimating population parameters (e.g., population mean) using sample data, confidence intervals are used to provide a range of plausible values with a specified level of confidence. The t-distribution is used to construct confidence intervals when the population standard deviation is unknown or the sample size is small."
   ]
  },
  {
   "cell_type": "markdown",
   "id": "c270791b-11c2-402a-982d-20be650afb6d",
   "metadata": {},
   "source": [
    "### Q12: What is t-statistic? State the formula for t-statistic."
   ]
  },
  {
   "cell_type": "markdown",
   "id": "db32019f-cae7-47ea-bed0-ec564fa0ffc1",
   "metadata": {},
   "source": [
    "The t-statistic is a statistical measure that quantifies how far the sample mean deviates from the hypothesized population mean, expressed in terms of the standard error of the sample mean. It is a key component of hypothesis testing and is used to determine whether there is a significant difference between the sample mean and the hypothesized population mean.\n",
    "\n",
    "##### Formula \n",
    "\n",
    " t =(sample mean - population mean)\\(standard error of the sample mean)\n",
    "\n",
    "Where:\n",
    "- \"sample mean\" is the average value of the sample data,\n",
    "- \"population mean\" is the hypothesized value for the population mean under the null hypothesis (often denoted as μ0),\n",
    "- \"standard error of the sample mean\" is the standard deviation of the sample divided by the square root of the sample size.\n"
   ]
  },
  {
   "cell_type": "markdown",
   "id": "560614bb-e91b-44b7-91ba-0b48ab0ab95a",
   "metadata": {},
   "source": [
    "### Q13. A coffee shop owner wants to estimate the average daily revenue for their shop. They take a random sample of 50 days and find the sample mean revenue to be  500 𝑤𝑖𝑡ℎ 𝑎 𝑠𝑡𝑎𝑛𝑑𝑎𝑟𝑑 𝑑𝑒𝑣𝑖𝑎𝑡𝑖𝑜𝑛 𝑜𝑓 50. Estimate the population mean revenue with a 95% confidence interval.\n"
   ]
  },
  {
   "cell_type": "markdown",
   "id": "66511340-4148-45cb-8c21-6f10a5d606c4",
   "metadata": {},
   "source": [
    "Sample_size :50\n",
    "\n",
    "sample_mean :500\n",
    "\n",
    "sample_std :50\n",
    "\n",
    "the value of sample size is gratter than 30 we use z-test\n",
    "\n",
    "Estimate_population_mean=sample_mean ± (z-test for 1/2sample_std)*sample_std/root(sample_size)\n",
    "\n",
    "Estimate_population_mean=500+1.96*(50/root(50))\n",
    "\n",
    "Estimate_population_mean Upper=513.85\n",
    "\n",
    "Estimate_population_mean=500-1.96*(50/root(50))\n",
    "\n",
    "Estimate_population_mean Lower =486.14"
   ]
  },
  {
   "cell_type": "markdown",
   "id": "416c31b2-4d6c-4ea2-8302-896ac597dd29",
   "metadata": {},
   "source": [
    "###  Q14. A researcher hypothesizes that a new drug will decrease blood pressure by 10 mmHg. They conduct a clinical trial with 100 patients and find that the sample mean decrease in blood pressure is 8 mmHg with a standard deviation of 3 mmHg. Test the hypothesis with a significance level of 0.05."
   ]
  },
  {
   "cell_type": "markdown",
   "id": "67ceefe2-ce76-4815-9ca4-c839e9a2b9f5",
   "metadata": {},
   "source": [
    "##### Null Hypothesis H0: new drug will not decrease blood pressure.\n",
    "##### Alternate Hypothesis H1: new drug will decrease blood pressure."
   ]
  },
  {
   "cell_type": "markdown",
   "id": "f96940ad-d887-411c-b259-e94c08d9d70b",
   "metadata": {},
   "source": [
    "sample_mean : 8\n",
    "\n",
    "hypothesized_mean :10\n",
    "\n",
    "sample_mean: 3\n",
    "\n",
    "sample_size:100\n",
    "\n",
    "alpha = 0.05 for this alpha value std value is -2.045 and +2.045\n",
    "\n",
    "\n",
    "t=(sample_mean - hypothesized_mean)/sample_mean*root(sample_size)\n",
    "\n",
    "t=(8-10)/3*root(100)\n",
    "\n",
    "t=-6.67\n",
    "\n",
    "if the t value is less than -2.045 than reject null Hypothesis\n",
    "\n"
   ]
  },
  {
   "cell_type": "code",
   "execution_count": 5,
   "id": "46bbf551-570f-437c-ac0c-a12486f4c423",
   "metadata": {},
   "outputs": [
    {
     "name": "stdout",
     "output_type": "stream",
     "text": [
      "Results of the One-Sample T-Test:\n",
      "T-Statistic: -6.67\n",
      "P-Value: 0.0000\n",
      "Reject the null hypothesis. The new drug has a significant effect on blood pressure.\n"
     ]
    }
   ],
   "source": [
    "import numpy as np\n",
    "import scipy.stats as stats\n",
    "\n",
    "# Given data\n",
    "sample_mean = 8\n",
    "hypothesized_mean = 10\n",
    "sample_std = 3\n",
    "sample_size = 100\n",
    "alpha = 0.05\n",
    "\n",
    "# Calculate the standard error\n",
    "standard_error = sample_std / np.sqrt(sample_size)\n",
    "\n",
    "# Calculate the test statistic\n",
    "t_statistic = (sample_mean - hypothesized_mean) / standard_error\n",
    "\n",
    "# Calculate the two-tailed p-value\n",
    "p_value = 2 * (1 - stats.t.cdf(abs(t_statistic), df=sample_size - 1))\n",
    "\n",
    "# Decide whether to reject the null hypothesis\n",
    "if p_value <= alpha:\n",
    "    result = \"Reject the null hypothesis. The new drug has a significant effect on blood pressure.\"\n",
    "else:\n",
    "    result = \"Fail to reject the null hypothesis. There is no significant effect on blood pressure.\"\n",
    "\n",
    "print(\"Results of the One-Sample T-Test:\")\n",
    "print(f\"T-Statistic: {t_statistic:.2f}\")\n",
    "print(f\"P-Value: {p_value:.4f}\")\n",
    "print(result)\n"
   ]
  },
  {
   "cell_type": "markdown",
   "id": "49840ffa-f686-4c52-ac8d-1dc2c1947317",
   "metadata": {},
   "source": [
    "### Q15. An electronics company produces a certain type of product with a mean weight of 5 pounds and a standard deviation of 0.5 pounds. A random sample of 25 products is taken, and the sample mean weight is found to be 4.8 pounds. Test the hypothesis that the true mean weight of the products is less than 5 pounds with a significance level of 0.01."
   ]
  },
  {
   "cell_type": "markdown",
   "id": "b92b041a-1d01-4351-8cca-e252d9e465f2",
   "metadata": {},
   "source": [
    "##### Null Hypothesis H0: Mean Weight of product is not <5\n",
    "\n",
    "##### Alternate Hypothesis H1:  Mean Weight of product is <5"
   ]
  },
  {
   "cell_type": "markdown",
   "id": "088e3f9d-c32c-400d-81df-8b5b39e93983",
   "metadata": {},
   "source": [
    "sample_mean = 4.8\n",
    "population_mean = 5\n",
    "population_std = 0.5\n",
    "sample_size = 25\n",
    "alpha = 0.01\n",
    "\n",
    "ztest=(sample_mean - hypothesized_mean)/population_std*root(sample size)\n",
    "\n",
    "z=(4.8-5)/(o.5*root(25))\n",
    "z=-.02\n",
    "p value= .42079\n",
    "\n",
    "p value > alpha\n",
    "asscept the null hypothsis"
   ]
  },
  {
   "cell_type": "code",
   "execution_count": 6,
   "id": "6d77f65d-deec-4bab-9ac4-5e96c851ce41",
   "metadata": {},
   "outputs": [
    {
     "name": "stdout",
     "output_type": "stream",
     "text": [
      "Results of the One-Sample Left-Tailed T-Test:\n",
      "T-Statistic: -2.00\n",
      "P-Value: 0.0285\n",
      "Fail to reject the null hypothesis. There is no sufficient evidence to suggest the true mean weight is less than 5 pounds.\n"
     ]
    }
   ],
   "source": [
    "import numpy as np\n",
    "import scipy.stats as stats\n",
    "\n",
    "# Given data\n",
    "sample_mean = 4.8\n",
    "hypothesized_mean = 5\n",
    "population_std = 0.5\n",
    "sample_size = 25\n",
    "alpha = 0.01\n",
    "\n",
    "# Calculate the standard error\n",
    "standard_error = population_std / np.sqrt(sample_size)\n",
    "\n",
    "# Calculate the test statistic\n",
    "t_statistic = (sample_mean - hypothesized_mean) / standard_error\n",
    "\n",
    "# Calculate the one-tailed p-value (left-tailed t-test)\n",
    "p_value = stats.t.cdf(t_statistic, df=sample_size - 1)\n",
    "\n",
    "# Decide whether to reject the null hypothesis\n",
    "if p_value <= alpha:\n",
    "    result = \"Reject the null hypothesis. The true mean weight is less than 5 pounds.\"\n",
    "else:\n",
    "    result = \"Fail to reject the null hypothesis. There is no sufficient evidence to suggest the true mean weight is less than 5 pounds.\"\n",
    "\n",
    "print(\"Results of the One-Sample Left-Tailed T-Test:\")\n",
    "print(f\"T-Statistic: {t_statistic:.2f}\")\n",
    "print(f\"P-Value: {p_value:.4f}\")\n",
    "print(result)\n"
   ]
  },
  {
   "cell_type": "markdown",
   "id": "07ed8c93-6136-405e-9063-e9b7db95b4ae",
   "metadata": {},
   "source": [
    "### Q16. Two groups of students are given different study materials to prepare for a test. The first group (n1 = 30) has a mean score of 80 with a standard deviation of 10, and the second group (n2 = 40) has a mean score of 75 with a standard deviation of 8. Test the hypothesis that the population means for the two groups are equal with a significance level of 0.01."
   ]
  },
  {
   "cell_type": "markdown",
   "id": "36906e2c-ae9c-46ed-ba0d-b9180a7a9d3b",
   "metadata": {},
   "source": [
    "#### H0: μ1 = μ2 (The population means of the two groups are equal)\n",
    "#### H1: μ1 ≠ μ2 (The population means of the two groups are not equal)"
   ]
  },
  {
   "cell_type": "code",
   "execution_count": 2,
   "id": "8616aa23-2efc-4424-88a9-ce76e289c9b0",
   "metadata": {},
   "outputs": [
    {
     "name": "stdout",
     "output_type": "stream",
     "text": [
      "T-Statistic: 2.3239677296992913\n",
      "P-Value: 0.023123013413725912\n",
      "Fail to reject the null hypothesis. The population means are equal.\n"
     ]
    }
   ],
   "source": [
    "import numpy as np\n",
    "from scipy import stats\n",
    "\n",
    "# Given data\n",
    "n1 = 30\n",
    "mean1 = 80\n",
    "std1 = 10\n",
    "\n",
    "n2 = 40\n",
    "mean2 = 75\n",
    "std2 = 8\n",
    "\n",
    "# Significance level\n",
    "alpha = 0.01\n",
    "\n",
    "# Calculate the pooled standard deviation\n",
    "pooled_std = np.sqrt(((n1 - 1) * std1**2 + (n2 - 1) * std2**2) / (n1 + n2 - 2))\n",
    "\n",
    "# Calculate the t-statistic\n",
    "t_statistic = (mean1 - mean2) / (pooled_std * np.sqrt((1 / n1) + (1 / n2)))\n",
    "\n",
    "# Degrees of freedom\n",
    "df = n1 + n2 - 2\n",
    "\n",
    "# Calculate the p-value (two-tailed test)\n",
    "p_value = 2 * (1 - stats.t.cdf(abs(t_statistic), df))\n",
    "\n",
    "# Check for significance\n",
    "if p_value < alpha:\n",
    "    result = \"Reject the null hypothesis. The population means are not equal.\"\n",
    "else:\n",
    "    result = \"Fail to reject the null hypothesis. The population means are equal.\"\n",
    "\n",
    "print(\"T-Statistic:\", t_statistic)\n",
    "print(\"P-Value:\", p_value)\n",
    "print(result)\n"
   ]
  },
  {
   "cell_type": "markdown",
   "id": "82a6af64-a062-48c3-80ef-e34716937bf2",
   "metadata": {},
   "source": [
    "### Q17. A marketing company wants to estimate the average number of ads watched by viewers during a TV program. They take a random sample of 50 viewers and find that the sample mean is 4 with a standard deviation of 1.5. Estimate the population mean with a 99% confidence interval."
   ]
  },
  {
   "cell_type": "markdown",
   "id": "3783adac-c2f8-49ba-8e8c-a83f0027030c",
   "metadata": {},
   "source": [
    "Sample_size :50\n",
    "\n",
    "sample_mean :4\n",
    "\n",
    "sample_std :1.5\n",
    "\n",
    "the value of sample size is gratter than 30 we use z-test\n",
    "\n",
    "Estimate_population_mean=sample_mean ± (z-test for 1/2sample_std)*sample_std/root(sample_size)\n",
    "\n",
    "Estimate_population_mean=4+2.576*(1.5/root(50))\n",
    "\n",
    "Estimate_population_mean Upper=4.546\n",
    "\n",
    "Estimate_population_mean=4-2.576*(1.5/root(50))\n",
    "\n",
    "Estimate_population_mean Lower =3.453"
   ]
  },
  {
   "cell_type": "code",
   "execution_count": null,
   "id": "32ee849f-ae71-4a45-9c14-b37ec6b1a5c5",
   "metadata": {},
   "outputs": [],
   "source": []
  }
 ],
 "metadata": {
  "kernelspec": {
   "display_name": "Python 3 (ipykernel)",
   "language": "python",
   "name": "python3"
  },
  "language_info": {
   "codemirror_mode": {
    "name": "ipython",
    "version": 3
   },
   "file_extension": ".py",
   "mimetype": "text/x-python",
   "name": "python",
   "nbconvert_exporter": "python",
   "pygments_lexer": "ipython3",
   "version": "3.10.8"
  }
 },
 "nbformat": 4,
 "nbformat_minor": 5
}
